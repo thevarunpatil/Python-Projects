{
 "cells": [
  {
   "cell_type": "code",
   "execution_count": 1,
   "id": "9b59a7f7-bbaf-47a0-8f98-b7ab8e3f4f27",
   "metadata": {},
   "outputs": [],
   "source": [
    "import pandas as pd"
   ]
  },
  {
   "cell_type": "code",
   "execution_count": 2,
   "id": "ce5b9f2e-bfb4-417f-b28d-eb85f68ddf79",
   "metadata": {},
   "outputs": [],
   "source": [
    "df = pd.read_csv('SBIN_Data.csv')"
   ]
  },
  {
   "cell_type": "code",
   "execution_count": 3,
   "id": "b56a4c98-02f4-4992-8a3d-eb2ea55cf8ff",
   "metadata": {},
   "outputs": [],
   "source": [
    "# Todays date\n",
    "\n",
    "from datetime import datetime,timedelta\n",
    "#today = datetime.today().strftime('%d-%m-%Y')\n",
    "\n",
    "today = datetime(2024, 1, 31).date()\n",
    "time = '09:18:00' \n"
   ]
  },
  {
   "cell_type": "code",
   "execution_count": 4,
   "id": "b5b3cb88-d44f-4ba0-89f7-894edfc3d185",
   "metadata": {},
   "outputs": [],
   "source": [
    "# Print data of last five days \n",
    "rank_list = pd.DataFrame({'Date':[], 'Volume' : []})\n",
    "\n",
    "for i in range(5):\n",
    "    flag = True\n",
    "    while flag == True:\n",
    "        data = df[(df['Date'] == str(today.strftime(\"%d-%m-%Y\"))) & (df['Time'] == time)]\n",
    "        if data.empty:\n",
    "            today -= timedelta(1)\n",
    "            \n",
    "        else:\n",
    "            rank_list = pd.concat([rank_list, data[['Date','Volume']]], axis=0)\n",
    "            today -= timedelta(1)\n",
    "            flag = False"
   ]
  },
  {
   "cell_type": "code",
   "execution_count": 5,
   "id": "0c0030be-91ad-491c-b02f-ebbf8e738779",
   "metadata": {},
   "outputs": [
    {
     "data": {
      "text/html": [
       "<div>\n",
       "<style scoped>\n",
       "    .dataframe tbody tr th:only-of-type {\n",
       "        vertical-align: middle;\n",
       "    }\n",
       "\n",
       "    .dataframe tbody tr th {\n",
       "        vertical-align: top;\n",
       "    }\n",
       "\n",
       "    .dataframe thead th {\n",
       "        text-align: right;\n",
       "    }\n",
       "</style>\n",
       "<table border=\"1\" class=\"dataframe\">\n",
       "  <thead>\n",
       "    <tr style=\"text-align: right;\">\n",
       "      <th></th>\n",
       "      <th>Date</th>\n",
       "      <th>Volume</th>\n",
       "    </tr>\n",
       "  </thead>\n",
       "  <tbody>\n",
       "    <tr>\n",
       "      <th>7878</th>\n",
       "      <td>31-01-2024</td>\n",
       "      <td>40507.0</td>\n",
       "    </tr>\n",
       "    <tr>\n",
       "      <th>7503</th>\n",
       "      <td>30-01-2024</td>\n",
       "      <td>47259.0</td>\n",
       "    </tr>\n",
       "    <tr>\n",
       "      <th>7128</th>\n",
       "      <td>29-01-2024</td>\n",
       "      <td>101948.0</td>\n",
       "    </tr>\n",
       "    <tr>\n",
       "      <th>6753</th>\n",
       "      <td>25-01-2024</td>\n",
       "      <td>138405.0</td>\n",
       "    </tr>\n",
       "    <tr>\n",
       "      <th>6378</th>\n",
       "      <td>24-01-2024</td>\n",
       "      <td>140467.0</td>\n",
       "    </tr>\n",
       "  </tbody>\n",
       "</table>\n",
       "</div>"
      ],
      "text/plain": [
       "            Date    Volume\n",
       "7878  31-01-2024   40507.0\n",
       "7503  30-01-2024   47259.0\n",
       "7128  29-01-2024  101948.0\n",
       "6753  25-01-2024  138405.0\n",
       "6378  24-01-2024  140467.0"
      ]
     },
     "execution_count": 5,
     "metadata": {},
     "output_type": "execute_result"
    }
   ],
   "source": [
    "rank_list"
   ]
  },
  {
   "cell_type": "code",
   "execution_count": 10,
   "id": "46d1b599-fa95-46bb-a47a-8d174f5fa731",
   "metadata": {},
   "outputs": [],
   "source": [
    "rank_list['Rank'] = rank_list['Volume'].rank(ascending=False)"
   ]
  },
  {
   "cell_type": "code",
   "execution_count": 11,
   "id": "1fe545d3-84be-445d-b70d-559f182f5da4",
   "metadata": {},
   "outputs": [
    {
     "data": {
      "text/html": [
       "<div>\n",
       "<style scoped>\n",
       "    .dataframe tbody tr th:only-of-type {\n",
       "        vertical-align: middle;\n",
       "    }\n",
       "\n",
       "    .dataframe tbody tr th {\n",
       "        vertical-align: top;\n",
       "    }\n",
       "\n",
       "    .dataframe thead th {\n",
       "        text-align: right;\n",
       "    }\n",
       "</style>\n",
       "<table border=\"1\" class=\"dataframe\">\n",
       "  <thead>\n",
       "    <tr style=\"text-align: right;\">\n",
       "      <th></th>\n",
       "      <th>Date</th>\n",
       "      <th>Volume</th>\n",
       "      <th>Rank</th>\n",
       "    </tr>\n",
       "  </thead>\n",
       "  <tbody>\n",
       "    <tr>\n",
       "      <th>7878</th>\n",
       "      <td>31-01-2024</td>\n",
       "      <td>40507.0</td>\n",
       "      <td>5.0</td>\n",
       "    </tr>\n",
       "    <tr>\n",
       "      <th>7503</th>\n",
       "      <td>30-01-2024</td>\n",
       "      <td>47259.0</td>\n",
       "      <td>4.0</td>\n",
       "    </tr>\n",
       "    <tr>\n",
       "      <th>7128</th>\n",
       "      <td>29-01-2024</td>\n",
       "      <td>101948.0</td>\n",
       "      <td>3.0</td>\n",
       "    </tr>\n",
       "    <tr>\n",
       "      <th>6753</th>\n",
       "      <td>25-01-2024</td>\n",
       "      <td>138405.0</td>\n",
       "      <td>2.0</td>\n",
       "    </tr>\n",
       "    <tr>\n",
       "      <th>6378</th>\n",
       "      <td>24-01-2024</td>\n",
       "      <td>140467.0</td>\n",
       "      <td>1.0</td>\n",
       "    </tr>\n",
       "  </tbody>\n",
       "</table>\n",
       "</div>"
      ],
      "text/plain": [
       "            Date    Volume  Rank\n",
       "7878  31-01-2024   40507.0   5.0\n",
       "7503  30-01-2024   47259.0   4.0\n",
       "7128  29-01-2024  101948.0   3.0\n",
       "6753  25-01-2024  138405.0   2.0\n",
       "6378  24-01-2024  140467.0   1.0"
      ]
     },
     "execution_count": 11,
     "metadata": {},
     "output_type": "execute_result"
    }
   ],
   "source": [
    "rank_list"
   ]
  },
  {
   "cell_type": "code",
   "execution_count": null,
   "id": "f15f68c2-17d4-4835-b806-a1c41c50bb9d",
   "metadata": {},
   "outputs": [],
   "source": []
  }
 ],
 "metadata": {
  "kernelspec": {
   "display_name": "Python 3 (ipykernel)",
   "language": "python",
   "name": "python3"
  },
  "language_info": {
   "codemirror_mode": {
    "name": "ipython",
    "version": 3
   },
   "file_extension": ".py",
   "mimetype": "text/x-python",
   "name": "python",
   "nbconvert_exporter": "python",
   "pygments_lexer": "ipython3",
   "version": "3.12.2"
  }
 },
 "nbformat": 4,
 "nbformat_minor": 5
}
